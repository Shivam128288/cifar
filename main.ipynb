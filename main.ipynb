{
 "cells": [
  {
   "cell_type": "code",
   "execution_count": 1,
   "metadata": {},
   "outputs": [
    {
     "name": "stdout",
     "output_type": "stream",
     "text": [
      "Downloading data from https://www.cs.toronto.edu/~kriz/cifar-10-python.tar.gz\n",
      "170498071/170498071 [==============================] - 156s 1us/step\n",
      "Epoch 1/10\n",
      "1563/1563 [==============================] - 111s 69ms/step - loss: 1.5164 - accuracy: 0.4506 - val_loss: 1.3973 - val_accuracy: 0.5025\n",
      "Epoch 2/10\n",
      "1563/1563 [==============================] - 88s 56ms/step - loss: 1.1701 - accuracy: 0.5887 - val_loss: 1.1197 - val_accuracy: 0.6081\n",
      "Epoch 3/10\n",
      "1563/1563 [==============================] - 47s 30ms/step - loss: 1.0378 - accuracy: 0.6396 - val_loss: 1.0900 - val_accuracy: 0.6199\n",
      "Epoch 4/10\n",
      "1563/1563 [==============================] - 47s 30ms/step - loss: 0.9533 - accuracy: 0.6716 - val_loss: 1.0091 - val_accuracy: 0.6586\n",
      "Epoch 5/10\n",
      "1563/1563 [==============================] - 41s 26ms/step - loss: 0.8920 - accuracy: 0.6930 - val_loss: 0.9433 - val_accuracy: 0.6765\n",
      "Epoch 6/10\n",
      "1563/1563 [==============================] - 35s 22ms/step - loss: 0.8376 - accuracy: 0.7099 - val_loss: 0.9837 - val_accuracy: 0.6659\n",
      "Epoch 7/10\n",
      "1563/1563 [==============================] - 44s 28ms/step - loss: 0.7889 - accuracy: 0.7277 - val_loss: 0.9804 - val_accuracy: 0.6686\n",
      "Epoch 8/10\n",
      "1563/1563 [==============================] - 41s 26ms/step - loss: 0.7515 - accuracy: 0.7415 - val_loss: 0.9308 - val_accuracy: 0.6826\n",
      "Epoch 9/10\n",
      "1563/1563 [==============================] - 40s 26ms/step - loss: 0.7167 - accuracy: 0.7527 - val_loss: 0.9073 - val_accuracy: 0.6978\n",
      "Epoch 10/10\n",
      "1563/1563 [==============================] - 46s 29ms/step - loss: 0.6829 - accuracy: 0.7627 - val_loss: 0.9381 - val_accuracy: 0.6884\n",
      "313/313 [==============================] - 2s 7ms/step - loss: 0.9381 - accuracy: 0.6884\n",
      "Test accuracy: 68.84%\n"
     ]
    }
   ],
   "source": [
    "import numpy as np\n",
    "import tensorflow as tf\n",
    "from tensorflow.keras import layers, models, datasets\n",
    "\n",
    "# Load the CIFAR-10 dataset\n",
    "(x_train, y_train), (x_test, y_test) = datasets.cifar10.load_data()\n",
    "\n",
    "# Normalize the pixel values to the range [0, 1]\n",
    "x_train = x_train.astype('float32') / 255.0\n",
    "x_test = x_test.astype('float32') / 255.0\n",
    "\n",
    "# Convert the labels to one-hot encoding\n",
    "y_train = tf.keras.utils.to_categorical(y_train, num_classes=10)\n",
    "y_test = tf.keras.utils.to_categorical(y_test, num_classes=10)\n",
    "\n",
    "model = models.Sequential()\n",
    "\n",
    "# Convolutional layers\n",
    "model.add(layers.Conv2D(32, (3, 3), activation='relu', input_shape=(32, 32, 3)))\n",
    "model.add(layers.MaxPooling2D((2, 2)))\n",
    "model.add(layers.Conv2D(64, (3, 3), activation='relu'))\n",
    "model.add(layers.MaxPooling2D((2, 2)))\n",
    "\n",
    "# Dense (fully connected) layers\n",
    "model.add(layers.Flatten())\n",
    "model.add(layers.Dense(64, activation='relu'))\n",
    "model.add(layers.Dense(10, activation='softmax'))\n",
    "\n",
    "# Compile the model\n",
    "model.compile(optimizer='adam',\n",
    "              loss='categorical_crossentropy',\n",
    "              metrics=['accuracy'])\n",
    "\n",
    "model.fit(x_train, y_train, epochs=10, batch_size=32, validation_data=(x_test, y_test))\n",
    "\n",
    "test_loss, test_accuracy = model.evaluate(x_test, y_test)\n",
    "print(\"Test accuracy: {:.2f}%\".format(test_accuracy * 100))\n"
   ]
  },
  {
   "cell_type": "code",
   "execution_count": null,
   "metadata": {},
   "outputs": [],
   "source": []
  }
 ],
 "metadata": {
  "kernelspec": {
   "display_name": "Python 3",
   "language": "python",
   "name": "python3"
  },
  "language_info": {
   "codemirror_mode": {
    "name": "ipython",
    "version": 3
   },
   "file_extension": ".py",
   "mimetype": "text/x-python",
   "name": "python",
   "nbconvert_exporter": "python",
   "pygments_lexer": "ipython3",
   "version": "3.11.4"
  },
  "orig_nbformat": 4
 },
 "nbformat": 4,
 "nbformat_minor": 2
}
